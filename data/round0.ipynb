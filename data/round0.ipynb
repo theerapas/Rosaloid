{
 "cells": [
  {
   "cell_type": "code",
   "execution_count": 2,
   "id": "92a2c109",
   "metadata": {},
   "outputs": [
    {
     "name": "stdout",
     "output_type": "stream",
     "text": [
      "Project root: d:\\Bioinformatics\\Rosaloid\n",
      "Has src?: True\n",
      "['__loader__', 'embed_dataframe', 'get_embedding', 'load_esm1v', 'zero_shot_dataframe', 'zero_shot_score']\n"
     ]
    }
   ],
   "source": [
    "import pandas as pd, numpy as np\n",
    "import sys, os\n",
    "from pathlib import Path\n",
    "\n",
    "# Ensure we are at the project root (the folder that contains `src/`)\n",
    "# If your notebook sits in the root, this is already correct.\n",
    "root = Path.cwd()\n",
    "\n",
    "# If your notebook lives somewhere else, climb up until we see 'src'\n",
    "while not (root / \"src\").exists() and root.parent != root:\n",
    "    root = root.parent\n",
    "\n",
    "# Put project root and src/ on sys.path\n",
    "sys.path.insert(0, str(root))\n",
    "sys.path.insert(0, str(root / \"src\"))\n",
    "\n",
    "print(\"Project root:\", root)\n",
    "print(\"Has src?:\", (root / \"src\").exists())\n",
    "\n",
    "# Force a clean import of the latest file\n",
    "import importlib, src.esm_feats as esm_feats\n",
    "importlib.reload(esm_feats)\n",
    "\n",
    "# See what the module actually exports\n",
    "print([n for n in dir(esm_feats) if \"emb\" in n or \"shot\" in n or \"load\" in n])\n",
    "\n",
    "from src.esm_feats import embed_dataframe, load_esm1v\n"
   ]
  },
  {
   "cell_type": "code",
   "execution_count": 3,
   "id": "abc9f2ad",
   "metadata": {},
   "outputs": [
    {
     "name": "stderr",
     "output_type": "stream",
     "text": [
      "C:\\Users\\thana\\AppData\\Local\\Packages\\PythonSoftwareFoundation.Python.3.13_qbz5n2kfra8p0\\LocalCache\\local-packages\\Python313\\site-packages\\esm\\pretrained.py:215: UserWarning: Regression weights not found, predicting contacts will not produce correct results.\n",
      "  warnings.warn(\n"
     ]
    },
    {
     "name": "stdout",
     "output_type": "stream",
     "text": [
      "Round-0 mean zero-shot: 2.029902537663778\n",
      "Avg Hamming to WT: 3.90625\n",
      "Saved round0_batch.csv with 96 sequences.\n"
     ]
    }
   ],
   "source": [
    "# ---- knobs ----\n",
    "BATCH = 96          # use 24 if you want tiny\n",
    "SHORTLIST = 5*BATCH # diversify beyond the strict top-k\n",
    "RADIUS = 2          # trust radius (num_subs <= RADIUS)\n",
    "\n",
    "# 1) load zero-shot table and apply trust radius\n",
    "zs = pd.read_csv(\"gfp_dms_with_zeroshot.csv\").reset_index(drop=True)\n",
    "pool = zs.query(\"num_subs <= @RADIUS\").copy()\n",
    "\n",
    "# 2) shortlist by zero-shot score (higher is better)\n",
    "short = (pool.sort_values(\"esm1v_zero_shot\", ascending=False)\n",
    "              .head(SHORTLIST)\n",
    "              .reset_index(drop=True))\n",
    "\n",
    "# 3) ensure embeddings for the shortlist (uses cache; fast on 4070S)\n",
    "_ = load_esm1v(device=\"cuda\")   # falls back to cpu if needed\n",
    "short = embed_dataframe(short)  # adds 'embedding_path' and writes matrix\n",
    "E = np.load(short[\"embedding_path\"].iloc[0])   # rows align with 'short' order\n",
    "\n",
    "# 4) diversity pick via farthest-point sampling in embedding space\n",
    "def farthest_point_sampling(X, k):\n",
    "    rng = np.random.default_rng(0)\n",
    "    idx = [int(rng.integers(0, len(X)))]\n",
    "    dist = np.full(len(X), np.inf, dtype=np.float32)\n",
    "    for _ in range(1, k):\n",
    "        d = np.linalg.norm(X - X[idx[-1]], axis=1)\n",
    "        dist = np.minimum(dist, d)\n",
    "        idx.append(int(np.argmax(dist)))\n",
    "    return np.array(idx)\n",
    "\n",
    "sel = farthest_point_sampling(E, BATCH)\n",
    "round0 = short.iloc[sel].copy()\n",
    "\n",
    "# (optional) quick sanity prints\n",
    "print(\"Round-0 mean zero-shot:\", round0[\"esm1v_zero_shot\"].mean())\n",
    "print(\"Avg Hamming to WT:\", (round0[\"mutated_sequence\"]\n",
    "                             .apply(lambda s: sum(a!=b for a,b in zip(s, round0.iloc[0]['mutated_sequence'])))\n",
    "                             .mean()))\n",
    "\n",
    "round0.to_csv(\"round0_batch.csv\", index=False)\n",
    "print(f\"Saved round0_batch.csv with {len(round0)} sequences.\")"
   ]
  }
 ],
 "metadata": {
  "kernelspec": {
   "display_name": "Python 3",
   "language": "python",
   "name": "python3"
  },
  "language_info": {
   "codemirror_mode": {
    "name": "ipython",
    "version": 3
   },
   "file_extension": ".py",
   "mimetype": "text/x-python",
   "name": "python",
   "nbconvert_exporter": "python",
   "pygments_lexer": "ipython3",
   "version": "3.13.7"
  }
 },
 "nbformat": 4,
 "nbformat_minor": 5
}
