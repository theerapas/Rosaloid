{
 "cells": [
  {
   "cell_type": "code",
   "execution_count": 1,
   "id": "3f7c8926",
   "metadata": {},
   "outputs": [],
   "source": [
    "import pandas as pd"
   ]
  },
  {
   "cell_type": "code",
   "execution_count": 2,
   "id": "fb9c8f0b",
   "metadata": {},
   "outputs": [],
   "source": [
    "ref = pd.read_csv(\"DMS_substitutions.csv\")\n",
    "ref_gfp = ref[ref[\"DMS_id\"] == \"GFP_AEQVI_Sarkisyan_2016\"].copy()"
   ]
  },
  {
   "cell_type": "code",
   "execution_count": 3,
   "id": "ba17ef39",
   "metadata": {},
   "outputs": [],
   "source": [
    "assert len(ref_gfp) == 1, \"More than one or zero matches — check ref[ref.DMS_id.str.contains('GFP', case=False)]\""
   ]
  },
  {
   "cell_type": "code",
   "execution_count": 4,
   "id": "a207b261",
   "metadata": {},
   "outputs": [],
   "source": [
    "wt_seq = ref_gfp.iloc[0][\"target_seq\"]\n",
    "ref_gfp.to_csv(\"ref_gfp.csv\", index=False)"
   ]
  },
  {
   "cell_type": "code",
   "execution_count": 5,
   "id": "8c016027",
   "metadata": {},
   "outputs": [],
   "source": [
    "df = pd.read_csv(\"GFP_AEQVI_Sarkisyan_2016.csv\")"
   ]
  },
  {
   "cell_type": "code",
   "execution_count": 6,
   "id": "ae2f7cac",
   "metadata": {},
   "outputs": [],
   "source": [
    "def _tok_ok(tok,wt):\n",
    "    a, pos, b = tok[0], int(tok[1:-1]), tok[-1]  # e.g. A42G\n",
    "    return wt[pos-1] == a"
   ]
  },
  {
   "cell_type": "code",
   "execution_count": 7,
   "id": "8ce8424c",
   "metadata": {},
   "outputs": [
    {
     "name": "stdout",
     "output_type": "stream",
     "text": [
      "fraction of rows consistent with WT: 1.000\n"
     ]
    }
   ],
   "source": [
    "ok = df[\"mutant\"].str.split(\":\").apply(lambda toks: all(_tok_ok(t, wt_seq) for t in toks))\n",
    "print(f\"fraction of rows consistent with WT: {ok.mean():.3f}\")"
   ]
  }
 ],
 "metadata": {
  "kernelspec": {
   "display_name": "base",
   "language": "python",
   "name": "python3"
  },
  "language_info": {
   "codemirror_mode": {
    "name": "ipython",
    "version": 3
   },
   "file_extension": ".py",
   "mimetype": "text/x-python",
   "name": "python",
   "nbconvert_exporter": "python",
   "pygments_lexer": "ipython3",
   "version": "3.12.4"
  }
 },
 "nbformat": 4,
 "nbformat_minor": 5
}
