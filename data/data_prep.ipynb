{
 "cells": [
  {
   "cell_type": "code",
   "execution_count": 4,
   "id": "3f7c8926",
   "metadata": {},
   "outputs": [
    {
     "name": "stdout",
     "output_type": "stream",
     "text": [
      "Project root: d:\\Bioinformatics\\Rosaloid\n",
      "Has src?: True\n",
      "['__loader__', 'embed_dataframe', 'get_embedding', 'load_esm1v', 'zero_shot_dataframe', 'zero_shot_dataframe_mutantctx_batched', 'zero_shot_score']\n"
     ]
    }
   ],
   "source": [
    "import pandas as pd\n",
    "# ---- run me first in every notebook ----\n",
    "import sys, os\n",
    "from pathlib import Path\n",
    "\n",
    "# Ensure we are at the project root (the folder that contains `src/`)\n",
    "# If your notebook sits in the root, this is already correct.\n",
    "root = Path.cwd()\n",
    "\n",
    "# If your notebook lives somewhere else, climb up until we see 'src'\n",
    "while not (root / \"src\").exists() and root.parent != root:\n",
    "    root = root.parent\n",
    "\n",
    "# Put project root and src/ on sys.path\n",
    "sys.path.insert(0, str(root))\n",
    "sys.path.insert(0, str(root / \"src\"))\n",
    "\n",
    "print(\"Project root:\", root)\n",
    "print(\"Has src?:\", (root / \"src\").exists())\n",
    "\n",
    "# Force a clean import of the latest file\n",
    "import importlib, src.esm_feats as esm_feats\n",
    "importlib.reload(esm_feats)\n",
    "\n",
    "# See what the module actually exports\n",
    "print([n for n in dir(esm_feats) if \"emb\" in n or \"shot\" in n or \"load\" in n])\n"
   ]
  },
  {
   "cell_type": "code",
   "execution_count": 2,
   "id": "fb9c8f0b",
   "metadata": {},
   "outputs": [],
   "source": [
    "ref = pd.read_csv(\"DMS_substitutions.csv\")\n",
    "ref_gfp = ref[ref[\"DMS_id\"] == \"GFP_AEQVI_Sarkisyan_2016\"].copy()"
   ]
  },
  {
   "cell_type": "code",
   "execution_count": 3,
   "id": "ba17ef39",
   "metadata": {},
   "outputs": [],
   "source": [
    "assert len(ref_gfp) == 1, \"More than one or zero matches — check ref[ref.DMS_id.str.contains('GFP', case=False)]\""
   ]
  },
  {
   "cell_type": "code",
   "execution_count": 4,
   "id": "a207b261",
   "metadata": {},
   "outputs": [],
   "source": [
    "wt_seq = ref_gfp.iloc[0][\"target_seq\"]\n",
    "ref_gfp.to_csv(\"ref_gfp.csv\", index=False)"
   ]
  },
  {
   "cell_type": "code",
   "execution_count": 5,
   "id": "8c016027",
   "metadata": {},
   "outputs": [],
   "source": [
    "df = pd.read_csv(\"GFP_AEQVI_Sarkisyan_2016.csv\")"
   ]
  },
  {
   "cell_type": "code",
   "execution_count": 6,
   "id": "ae2f7cac",
   "metadata": {},
   "outputs": [],
   "source": [
    "def _tok_ok(tok,wt):\n",
    "    a, pos, b = tok[0], int(tok[1:-1]), tok[-1]  # e.g. A42G\n",
    "    return wt[pos-1] == a"
   ]
  },
  {
   "cell_type": "code",
   "execution_count": 7,
   "id": "8ce8424c",
   "metadata": {},
   "outputs": [
    {
     "name": "stdout",
     "output_type": "stream",
     "text": [
      "fraction of rows consistent with WT: 1.000\n"
     ]
    }
   ],
   "source": [
    "ok = df[\"mutant\"].str.split(\":\").apply(lambda toks: all(_tok_ok(t, wt_seq) for t in toks))\n",
    "print(f\"fraction of rows consistent with WT: {ok.mean():.3f}\")"
   ]
  },
  {
   "cell_type": "code",
   "execution_count": 8,
   "id": "f7b86fa9",
   "metadata": {},
   "outputs": [],
   "source": [
    "# Drop inconsistent rows and construct the mutated sequence\n",
    "import re\n",
    "pat = re.compile(r\"^([A-Z])(\\d+)([A-Z])$\")\n",
    "\n",
    "def apply_mutant(ref_seq, mutant_str):\n",
    "    seq = list(ref_seq)\n",
    "    muts = mutant_str.split(\":\")\n",
    "    for tok in muts:\n",
    "        m = pat.match(tok)\n",
    "        if not m:\n",
    "            raise ValueError(f\"Bad token: {tok}\")\n",
    "        a, pos, b = m.group(1), int(m.group(2)), m.group(3)\n",
    "        assert 1 <= pos <= len(seq), f\"Position out of range: {pos}\"\n",
    "        assert seq[pos-1] == a, f\"Ref mismatch at {pos}: expected {a}, got {seq[pos-1]}\"\n",
    "        seq[pos-1] = b\n",
    "    return \"\".join(seq), len(muts)\n",
    "\n",
    "df_ok = df[ok].copy()\n",
    "df_ok[\"mutated_sequence\"], df_ok[\"num_subs\"] = zip(*df_ok[\"mutant\"].map(lambda s: apply_mutant(wt_seq, s)))\n"
   ]
  },
  {
   "cell_type": "code",
   "execution_count": 9,
   "id": "00e1fbc2",
   "metadata": {},
   "outputs": [],
   "source": [
    "# Handle duplicates / replicates (some DMS rows refer to the same mutated sequence)\n",
    "# keep one score per unique sequence (mean across replicates is fine)\n",
    "agg = (df_ok\n",
    "       .groupby(\"mutated_sequence\", as_index=False)\n",
    "       .agg(DMS_score=(\"DMS_score\", \"mean\"),\n",
    "            any_mutant=(\"mutant\", \"first\"),\n",
    "            num_subs=(\"num_subs\", \"first\")))\n",
    "\n",
    "# optional: keep WT row if present; otherwise record WT_score separately\n",
    "WT_score = agg.loc[agg[\"mutated_sequence\"] == wt_seq, \"DMS_score\"].mean() if (agg[\"mutated_sequence\"] == wt_seq).any() else None\n",
    "if WT_score is not None:\n",
    "    agg[\"above_WT\"] = agg[\"DMS_score\"] > WT_score\n"
   ]
  },
  {
   "cell_type": "code",
   "execution_count": 10,
   "id": "2a463517",
   "metadata": {},
   "outputs": [],
   "source": [
    "# Save a clean table and a fast score lookup\n",
    "agg.to_csv(\"gfp_dms.csv\", index=False)\n",
    "score_of = dict(zip(agg[\"mutated_sequence\"], agg[\"DMS_score\"]))\n",
    "# End of data preparation"
   ]
  },
  {
   "cell_type": "code",
   "execution_count": 10,
   "id": "62b12c1e",
   "metadata": {},
   "outputs": [
    {
     "name": "stderr",
     "output_type": "stream",
     "text": [
      "C:\\Users\\thana\\AppData\\Local\\Packages\\PythonSoftwareFoundation.Python.3.13_qbz5n2kfra8p0\\LocalCache\\local-packages\\Python313\\site-packages\\esm\\pretrained.py:215: UserWarning: Regression weights not found, predicting contacts will not produce correct results.\n",
      "  warnings.warn(\n"
     ]
    },
    {
     "name": "stdout",
     "output_type": "stream",
     "text": [
      "device: cuda cuda_available? True\n",
      "NVIDIA GeForce RTX 4070 SUPER\n",
      "True\n",
      "13.0\n",
      "<module 'torch.version' from 'C:\\\\Users\\\\thana\\\\AppData\\\\Local\\\\Packages\\\\PythonSoftwareFoundation.Python.3.13_qbz5n2kfra8p0\\\\LocalCache\\\\local-packages\\\\Python313\\\\site-packages\\\\torch\\\\version.py'>\n",
      "PyTorch Version: 2.10.0.dev20250929+cu130\n",
      "CUDA Version (from torch): 13.0\n",
      "CUDA Available: True\n"
     ]
    }
   ],
   "source": [
    "from src.esm_feats import load_esm1v\n",
    "model, alphabet, batch_converter, device = load_esm1v()\n",
    "import torch\n",
    "print(\"device:\", device, \"cuda_available?\", torch.cuda.is_available())\n",
    "if torch.cuda.is_available():\n",
    "    print(torch.cuda.get_device_name(0))\n",
    "print(torch.cuda.is_available())\n",
    "print(torch.version.cuda)\n",
    "print(torch.version)\n",
    "# Print the PyTorch version\n",
    "print(f\"PyTorch Version: {torch.__version__}\")\n",
    "\n",
    "# Print the CUDA version (will be None if not built with CUDA)\n",
    "print(f\"CUDA Version (from torch): {torch.version.cuda}\")\n",
    "\n",
    "# Check if CUDA is available\n",
    "print(f\"CUDA Available: {torch.cuda.is_available()}\")"
   ]
  },
  {
   "cell_type": "code",
   "execution_count": null,
   "id": "e183ad23",
   "metadata": {},
   "outputs": [],
   "source": [
    "import pandas as pd\n",
    "from src.esm_feats import (\n",
    "    get_embedding, zero_shot_score,\n",
    "    embed_dataframe, zero_shot_dataframe, load_esm1v\n",
    ")\n",
    "\n",
    "\n",
    "# Load your outputs from Step 1\n",
    "gfp = pd.read_csv(\"gfp_dms.csv\")              # has mutated_sequence, DMS_score, etc.\n",
    "ref = pd.read_csv(\"ref_gfp.csv\")\n",
    "wt_seq = ref.iloc[0][\"target_seq\"]\n",
    "\n",
    "# (A) Add zero-shot prior to the subset you'll consider for Round-0\n",
    "gfp_small = gfp[gfp[\"num_subs\"] <= 2].copy()  # Example: safe local pool\n",
    "gfp_zs = zero_shot_dataframe(gfp_small, wt_seq, mutant_col=\"any_mutant\") # adds 'esm1v_zero_shot'\n",
    "gfp_zs.to_csv(\"gfp_dms_with_zeroshot.csv\", index=False)\n",
    "\n",
    "# (B) Cache embeddings for sequences you’re likely to touch soon (optional precompute)\n",
    "# You can precompute for gfp_small, or compute on-demand later in Round-0/GP fit.\n",
    "gfp_emb = embed_dataframe(gfp_small)          # writes a matrix_*.npy, adds 'embedding_path'\n",
    "gfp_emb.to_csv(\"gfp_dms_with_embptr.csv\", index=False)\n"
   ]
  },
  {
   "cell_type": "code",
   "execution_count": 13,
   "id": "d25f12b4",
   "metadata": {},
   "outputs": [
    {
     "name": "stdout",
     "output_type": "stream",
     "text": [
      "Saved: 13861\n"
     ]
    }
   ],
   "source": [
    "from src.esm_feats import load_esm1v, zero_shot_dataframe_mutantctx_batched\n",
    "\n",
    "# make sure model is on GPU if available\n",
    "_ = load_esm1v(device=\"cuda\")\n",
    "\n",
    "gfp = pd.read_csv(\"gfp_dms.csv\")\n",
    "ref = pd.read_csv(\"ref_gfp.csv\"); wtseq = ref.iloc[0][\"target_seq\"]\n",
    "\n",
    "gfp2 = gfp[gfp[\"num_subs\"] <= 2].reset_index(drop=True)\n",
    "mutant_col = \"any_mutant\" if \"any_mutant\" in gfp2.columns else \"mutant\"\n",
    "\n",
    "gfp_mc = zero_shot_dataframe_mutantctx_batched(gfp2, wtseq, mutant_col=mutant_col,\n",
    "                                               batch_size_seqs=64, batch_size_masks=512)\n",
    "gfp_mc.to_csv(\"gfp_dms_with_zeroshot_mutantctx.csv\", index=False)\n",
    "print(\"Saved:\", len(gfp_mc))\n"
   ]
  },
  {
   "cell_type": "code",
   "execution_count": 5,
   "id": "cf35a9b8",
   "metadata": {},
   "outputs": [
    {
     "name": "stderr",
     "output_type": "stream",
     "text": [
      "C:\\Users\\thana\\AppData\\Local\\Packages\\PythonSoftwareFoundation.Python.3.13_qbz5n2kfra8p0\\LocalCache\\local-packages\\Python313\\site-packages\\esm\\pretrained.py:215: UserWarning: Regression weights not found, predicting contacts will not produce correct results.\n",
      "  warnings.warn(\n",
      "d:\\Bioinformatics\\Rosaloid\\src\\esm_feats.py:334: FutureWarning: `torch.cuda.amp.autocast(args...)` is deprecated. Please use `torch.amp.autocast('cuda', args...)` instead.\n",
      "  out = model(rep, repr_layers=[], return_contacts=False)\n"
     ]
    },
    {
     "name": "stdout",
     "output_type": "stream",
     "text": [
      "Saved PLLΔ: 13861\n",
      "PLLΔ vs DMS (subset) ρ = 0.044  (n=13861)\n"
     ]
    }
   ],
   "source": [
    "\n",
    "#PLL\n",
    "import importlib, src.esm_feats as ef\n",
    "import pandas as pd\n",
    "from scipy.stats import spearmanr\n",
    "\n",
    "importlib.reload(ef)\n",
    "from src.esm_feats import load_esm1v, pll_delta_dataframe_safe\n",
    "\n",
    "_ = load_esm1v(device=\"cuda\")\n",
    "\n",
    "gfp = pd.read_csv(\"gfp_dms.csv\")\n",
    "ref = pd.read_csv(\"ref_gfp.csv\"); wt = ref.iloc[0][\"target_seq\"]\n",
    "\n",
    "subset = gfp[gfp[\"num_subs\"] <= 2].reset_index(drop=True)   # or singles\n",
    "\n",
    "pll_df = pll_delta_dataframe_safe(subset, wt, seq_col=\"mutated_sequence\")\n",
    "pll_df.to_csv(\"gfp_dms_with_plldelta.csv\", index=False)\n",
    "print(\"Saved PLLΔ:\", len(pll_df))\n",
    "\n",
    "m = pll_df[[\"pll_delta\",\"DMS_score\"]].dropna()\n",
    "rho, _ = spearmanr(m[\"pll_delta\"], m[\"DMS_score\"])\n",
    "print(f\"PLLΔ vs DMS (subset) ρ = {rho:.3f}  (n={len(m)})\")\n"
   ]
  }
 ],
 "metadata": {
  "kernelspec": {
   "display_name": "Python 3",
   "language": "python",
   "name": "python3"
  },
  "language_info": {
   "codemirror_mode": {
    "name": "ipython",
    "version": 3
   },
   "file_extension": ".py",
   "mimetype": "text/x-python",
   "name": "python",
   "nbconvert_exporter": "python",
   "pygments_lexer": "ipython3",
   "version": "3.13.7"
  }
 },
 "nbformat": 4,
 "nbformat_minor": 5
}
